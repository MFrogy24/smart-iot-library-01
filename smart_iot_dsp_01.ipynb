{
  "nbformat": 4,
  "nbformat_minor": 0,
  "metadata": {
    "colab": {
      "name": "smart-iot-dsp-01.ipynb",
      "provenance": []
    },
    "kernelspec": {
      "name": "python3",
      "display_name": "Python 3"
    },
    "language_info": {
      "name": "python"
    }
  },
  "cells": [
    {
      "cell_type": "code",
      "execution_count": 1,
      "metadata": {
        "colab": {
          "base_uri": "https://localhost:8080/"
        },
        "id": "gkqxw43viGcW",
        "outputId": "8cefa42d-d166-450a-fb11-dd2822266439"
      },
      "outputs": [
        {
          "output_type": "stream",
          "name": "stdout",
          "text": [
            "--2022-07-26 17:24:21--  http://no-cache/\n",
            "Resolving no-cache (no-cache)... failed: Name or service not known.\n",
            "wget: unable to resolve host address ‘no-cache’\n",
            "--2022-07-26 17:24:21--  http://--backups=1/\n",
            "Resolving --backups=1 (--backups=1)... failed: Name or service not known.\n",
            "wget: unable to resolve host address ‘--backups=1’\n",
            "--2022-07-26 17:24:21--  https://raw.githubusercontent.com/MFrogy24/smart-iot-library-01/main/smartiot.py\n",
            "Resolving raw.githubusercontent.com (raw.githubusercontent.com)... 185.199.110.133, 185.199.108.133, 185.199.111.133, ...\n",
            "Connecting to raw.githubusercontent.com (raw.githubusercontent.com)|185.199.110.133|:443... connected.\n",
            "HTTP request sent, awaiting response... 200 OK\n",
            "Length: 114 [text/plain]\n",
            "Saving to: ‘smartiot.py’\n",
            "\n",
            "smartiot.py         100%[===================>]     114  --.-KB/s    in 0s      \n",
            "\n",
            "2022-07-26 17:24:21 (5.60 MB/s) - ‘smartiot.py’ saved [114/114]\n",
            "\n",
            "FINISHED --2022-07-26 17:24:21--\n",
            "Total wall clock time: 0.3s\n",
            "Downloaded: 1 files, 114 in 0s (5.60 MB/s)\n"
          ]
        }
      ],
      "source": [
        "url = 'https://raw.githubusercontent.com/MFrogy24/smart-iot-library-01/main/smartiot.py' \n",
        "!wget -- no-cache --backups=1 {url}"
      ]
    },
    {
      "cell_type": "code",
      "source": [
        "import smartiot\n",
        "\n",
        "smartiot.version()"
      ],
      "metadata": {
        "colab": {
          "base_uri": "https://localhost:8080/"
        },
        "id": "ZxOAcQvhif7z",
        "outputId": "ca2fcab9-e765-469f-f811-dd4701984c83"
      },
      "execution_count": 2,
      "outputs": [
        {
          "output_type": "stream",
          "name": "stdout",
          "text": [
            "Smart IoT Library ver. 1.0\n"
          ]
        }
      ]
    },
    {
      "cell_type": "code",
      "source": [
        "help(smartiot)"
      ],
      "metadata": {
        "colab": {
          "base_uri": "https://localhost:8080/"
        },
        "id": "k8dEWgoNizdl",
        "outputId": "d8cc6830-6394-4705-e561-fb58bf84ec84"
      },
      "execution_count": 3,
      "outputs": [
        {
          "output_type": "stream",
          "name": "stdout",
          "text": [
            "Help on module smartiot:\n",
            "\n",
            "NAME\n",
            "    smartiot - # Smart IoT Library\n",
            "\n",
            "FUNCTIONS\n",
            "    version()\n",
            "        Show Smart IoT library version\n",
            "\n",
            "FILE\n",
            "    /content/smartiot.py\n",
            "\n",
            "\n"
          ]
        }
      ]
    },
    {
      "cell_type": "code",
      "source": [
        ""
      ],
      "metadata": {
        "id": "BfcH_oewi2YE"
      },
      "execution_count": null,
      "outputs": []
    }
  ]
}